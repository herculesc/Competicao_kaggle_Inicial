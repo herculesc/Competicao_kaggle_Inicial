{
 "cells": [
  {
   "cell_type": "markdown",
   "id": "6bacaa2a",
   "metadata": {},
   "source": [
    "# Previsão de sobrevivencia dos passageiro do navio Titanic\n",
    "\n",
    "### Introdução\n",
    "Esta competição tem como intuito a previsão da sobrevivência dos passageiros a bordo do navio Titanic, usando técnicas de machine learning."
   ]
  },
  {
   "cell_type": "code",
   "execution_count": 43,
   "id": "218490ea",
   "metadata": {},
   "outputs": [],
   "source": [
    "import pandas as pd\n",
    "from matplotlib import pyplot as plt"
   ]
  },
  {
   "cell_type": "code",
   "execution_count": 44,
   "id": "cc0b54d9",
   "metadata": {},
   "outputs": [],
   "source": [
    "arquivo = '../dados/Titanic/train.csv'\n",
    "df = pd.read_csv(arquivo)"
   ]
  },
  {
   "cell_type": "code",
   "execution_count": 45,
   "id": "35946c7f",
   "metadata": {},
   "outputs": [
    {
     "data": {
      "text/html": [
       "<div>\n",
       "<style scoped>\n",
       "    .dataframe tbody tr th:only-of-type {\n",
       "        vertical-align: middle;\n",
       "    }\n",
       "\n",
       "    .dataframe tbody tr th {\n",
       "        vertical-align: top;\n",
       "    }\n",
       "\n",
       "    .dataframe thead th {\n",
       "        text-align: right;\n",
       "    }\n",
       "</style>\n",
       "<table border=\"1\" class=\"dataframe\">\n",
       "  <thead>\n",
       "    <tr style=\"text-align: right;\">\n",
       "      <th></th>\n",
       "      <th>PassengerId</th>\n",
       "      <th>Survived</th>\n",
       "      <th>Pclass</th>\n",
       "      <th>Name</th>\n",
       "      <th>Sex</th>\n",
       "      <th>Age</th>\n",
       "      <th>SibSp</th>\n",
       "      <th>Parch</th>\n",
       "      <th>Ticket</th>\n",
       "      <th>Fare</th>\n",
       "      <th>Cabin</th>\n",
       "      <th>Embarked</th>\n",
       "    </tr>\n",
       "  </thead>\n",
       "  <tbody>\n",
       "    <tr>\n",
       "      <th>0</th>\n",
       "      <td>1</td>\n",
       "      <td>0</td>\n",
       "      <td>3</td>\n",
       "      <td>Braund, Mr. Owen Harris</td>\n",
       "      <td>male</td>\n",
       "      <td>22.0</td>\n",
       "      <td>1</td>\n",
       "      <td>0</td>\n",
       "      <td>A/5 21171</td>\n",
       "      <td>7.2500</td>\n",
       "      <td>NaN</td>\n",
       "      <td>S</td>\n",
       "    </tr>\n",
       "    <tr>\n",
       "      <th>1</th>\n",
       "      <td>2</td>\n",
       "      <td>1</td>\n",
       "      <td>1</td>\n",
       "      <td>Cumings, Mrs. John Bradley (Florence Briggs Th...</td>\n",
       "      <td>female</td>\n",
       "      <td>38.0</td>\n",
       "      <td>1</td>\n",
       "      <td>0</td>\n",
       "      <td>PC 17599</td>\n",
       "      <td>71.2833</td>\n",
       "      <td>C85</td>\n",
       "      <td>C</td>\n",
       "    </tr>\n",
       "    <tr>\n",
       "      <th>2</th>\n",
       "      <td>3</td>\n",
       "      <td>1</td>\n",
       "      <td>3</td>\n",
       "      <td>Heikkinen, Miss. Laina</td>\n",
       "      <td>female</td>\n",
       "      <td>26.0</td>\n",
       "      <td>0</td>\n",
       "      <td>0</td>\n",
       "      <td>STON/O2. 3101282</td>\n",
       "      <td>7.9250</td>\n",
       "      <td>NaN</td>\n",
       "      <td>S</td>\n",
       "    </tr>\n",
       "    <tr>\n",
       "      <th>3</th>\n",
       "      <td>4</td>\n",
       "      <td>1</td>\n",
       "      <td>1</td>\n",
       "      <td>Futrelle, Mrs. Jacques Heath (Lily May Peel)</td>\n",
       "      <td>female</td>\n",
       "      <td>35.0</td>\n",
       "      <td>1</td>\n",
       "      <td>0</td>\n",
       "      <td>113803</td>\n",
       "      <td>53.1000</td>\n",
       "      <td>C123</td>\n",
       "      <td>S</td>\n",
       "    </tr>\n",
       "    <tr>\n",
       "      <th>4</th>\n",
       "      <td>5</td>\n",
       "      <td>0</td>\n",
       "      <td>3</td>\n",
       "      <td>Allen, Mr. William Henry</td>\n",
       "      <td>male</td>\n",
       "      <td>35.0</td>\n",
       "      <td>0</td>\n",
       "      <td>0</td>\n",
       "      <td>373450</td>\n",
       "      <td>8.0500</td>\n",
       "      <td>NaN</td>\n",
       "      <td>S</td>\n",
       "    </tr>\n",
       "  </tbody>\n",
       "</table>\n",
       "</div>"
      ],
      "text/plain": [
       "   PassengerId  Survived  Pclass  \\\n",
       "0            1         0       3   \n",
       "1            2         1       1   \n",
       "2            3         1       3   \n",
       "3            4         1       1   \n",
       "4            5         0       3   \n",
       "\n",
       "                                                Name     Sex   Age  SibSp  \\\n",
       "0                            Braund, Mr. Owen Harris    male  22.0      1   \n",
       "1  Cumings, Mrs. John Bradley (Florence Briggs Th...  female  38.0      1   \n",
       "2                             Heikkinen, Miss. Laina  female  26.0      0   \n",
       "3       Futrelle, Mrs. Jacques Heath (Lily May Peel)  female  35.0      1   \n",
       "4                           Allen, Mr. William Henry    male  35.0      0   \n",
       "\n",
       "   Parch            Ticket     Fare Cabin Embarked  \n",
       "0      0         A/5 21171   7.2500   NaN        S  \n",
       "1      0          PC 17599  71.2833   C85        C  \n",
       "2      0  STON/O2. 3101282   7.9250   NaN        S  \n",
       "3      0            113803  53.1000  C123        S  \n",
       "4      0            373450   8.0500   NaN        S  "
      ]
     },
     "execution_count": 45,
     "metadata": {},
     "output_type": "execute_result"
    }
   ],
   "source": [
    "# visualizar dados\n",
    "df.head()"
   ]
  },
  {
   "cell_type": "markdown",
   "id": "74c1e4aa",
   "metadata": {},
   "source": [
    "### Selecionando as colunas\n"
   ]
  },
  {
   "cell_type": "code",
   "execution_count": 46,
   "id": "0be8e6cf",
   "metadata": {},
   "outputs": [],
   "source": [
    "df = df[['Survived','Pclass','Sex','Age','SibSp', 'Parch','Fare','Cabin','Embarked']]"
   ]
  },
  {
   "cell_type": "markdown",
   "id": "a9e64910",
   "metadata": {},
   "source": [
    "## Hipotes:\n",
    "* A cabine pode influenciar? Pensando que as cabines ao fundo do navio seria mais difícil sair do navio\n",
    "* O Sexo e idade pode influenciar ? (crianças e mulheres primeiro ?)\n",
    "* A classe do passageiro influiencia ?\n",
    "* Se o pasageiro esta acompanhado por um parente\n",
    "\n",
    "## Como avaliar isso ?\n",
    "Comparando o numero de sobrevivencia com as colunas, por exemplo (Pclass, Sex, Age, Parch, fare, cabin, Embarked).\n",
    "Criando perguntas como: qual o numero de sobrevivênte mulher e homen ?\n",
    "\n",
    "## Cuidados \n",
    "Como, por exemplo, o número pode mostrar que a maior quantidade de passageiro que sobreviveu tinha por volta de 20 a 25 anos\n",
    "sendo assim é importante saber quantos passageiros possuíam essa idade e também a quantidade de homens e mulheres.\n",
    "para não ser uma correlaxão \n",
    "\n",
    "### Com base nesta analise quais as colunas importantes ?"
   ]
  },
  {
   "cell_type": "markdown",
   "id": "d5583fd3",
   "metadata": {},
   "source": [
    "### Converter valor das colunas onde se tem valor string\n",
    "* Sex -> (female, male) 0,1\n"
   ]
  },
  {
   "cell_type": "markdown",
   "id": "d72644bd",
   "metadata": {},
   "source": [
    "# Analise dos dados"
   ]
  },
  {
   "cell_type": "code",
   "execution_count": 40,
   "id": "95f3d690",
   "metadata": {},
   "outputs": [],
   "source": [
    "# remover dados faltantes\n",
    "df = df.dropna(axis=0)"
   ]
  },
  {
   "cell_type": "code",
   "execution_count": 41,
   "id": "8385407c",
   "metadata": {},
   "outputs": [
    {
     "data": {
      "text/html": [
       "<div>\n",
       "<style scoped>\n",
       "    .dataframe tbody tr th:only-of-type {\n",
       "        vertical-align: middle;\n",
       "    }\n",
       "\n",
       "    .dataframe tbody tr th {\n",
       "        vertical-align: top;\n",
       "    }\n",
       "\n",
       "    .dataframe thead th {\n",
       "        text-align: right;\n",
       "    }\n",
       "</style>\n",
       "<table border=\"1\" class=\"dataframe\">\n",
       "  <thead>\n",
       "    <tr style=\"text-align: right;\">\n",
       "      <th></th>\n",
       "      <th>Survived</th>\n",
       "      <th>Pclass</th>\n",
       "      <th>Sex</th>\n",
       "      <th>Age</th>\n",
       "      <th>SibSp</th>\n",
       "      <th>Parch</th>\n",
       "      <th>Fare</th>\n",
       "      <th>Cabin</th>\n",
       "      <th>Embarked</th>\n",
       "    </tr>\n",
       "  </thead>\n",
       "  <tbody>\n",
       "    <tr>\n",
       "      <th>1</th>\n",
       "      <td>1</td>\n",
       "      <td>1</td>\n",
       "      <td>female</td>\n",
       "      <td>38.0</td>\n",
       "      <td>1</td>\n",
       "      <td>0</td>\n",
       "      <td>71.2833</td>\n",
       "      <td>C85</td>\n",
       "      <td>C</td>\n",
       "    </tr>\n",
       "    <tr>\n",
       "      <th>3</th>\n",
       "      <td>1</td>\n",
       "      <td>1</td>\n",
       "      <td>female</td>\n",
       "      <td>35.0</td>\n",
       "      <td>1</td>\n",
       "      <td>0</td>\n",
       "      <td>53.1000</td>\n",
       "      <td>C123</td>\n",
       "      <td>S</td>\n",
       "    </tr>\n",
       "    <tr>\n",
       "      <th>6</th>\n",
       "      <td>0</td>\n",
       "      <td>1</td>\n",
       "      <td>male</td>\n",
       "      <td>54.0</td>\n",
       "      <td>0</td>\n",
       "      <td>0</td>\n",
       "      <td>51.8625</td>\n",
       "      <td>E46</td>\n",
       "      <td>S</td>\n",
       "    </tr>\n",
       "    <tr>\n",
       "      <th>10</th>\n",
       "      <td>1</td>\n",
       "      <td>3</td>\n",
       "      <td>female</td>\n",
       "      <td>4.0</td>\n",
       "      <td>1</td>\n",
       "      <td>1</td>\n",
       "      <td>16.7000</td>\n",
       "      <td>G6</td>\n",
       "      <td>S</td>\n",
       "    </tr>\n",
       "    <tr>\n",
       "      <th>11</th>\n",
       "      <td>1</td>\n",
       "      <td>1</td>\n",
       "      <td>female</td>\n",
       "      <td>58.0</td>\n",
       "      <td>0</td>\n",
       "      <td>0</td>\n",
       "      <td>26.5500</td>\n",
       "      <td>C103</td>\n",
       "      <td>S</td>\n",
       "    </tr>\n",
       "  </tbody>\n",
       "</table>\n",
       "</div>"
      ],
      "text/plain": [
       "    Survived  Pclass     Sex   Age  SibSp  Parch     Fare Cabin Embarked\n",
       "1          1       1  female  38.0      1      0  71.2833   C85        C\n",
       "3          1       1  female  35.0      1      0  53.1000  C123        S\n",
       "6          0       1    male  54.0      0      0  51.8625   E46        S\n",
       "10         1       3  female   4.0      1      1  16.7000    G6        S\n",
       "11         1       1  female  58.0      0      0  26.5500  C103        S"
      ]
     },
     "execution_count": 41,
     "metadata": {},
     "output_type": "execute_result"
    }
   ],
   "source": [
    "df.head()"
   ]
  },
  {
   "cell_type": "code",
   "execution_count": 55,
   "id": "db12b0da",
   "metadata": {},
   "outputs": [
    {
     "data": {
      "text/plain": [
       "<AxesSubplot:xlabel='Sex'>"
      ]
     },
     "execution_count": 55,
     "metadata": {},
     "output_type": "execute_result"
    },
    {
     "data": {
      "image/png": "[encoded data removed]",
      "text/plain": [
       "<Figure size 432x288 with 1 Axes>"
      ]
     },
     "metadata": {
      "needs_background": "light"
     },
     "output_type": "display_data"
    }
   ],
   "source": [
    "count = df.groupby('Sex')['Survived'].count()\n",
    "count.plot(kind='bar')"
   ]
  },
  {
   "cell_type": "code",
   "execution_count": 77,
   "id": "2d964994",
   "metadata": {},
   "outputs": [
    {
     "name": "stdout",
     "output_type": "stream",
     "text": [
      "Conjunto:891\n",
      "Mulheres:314\n",
      "Homens: 577\n"
     ]
    }
   ],
   "source": [
    "tamanho_conjunto = len(df)\n",
    "Sex_f = df[df['Sex']=='female']\n",
    "Sex_m = df[df['Sex']=='male']\n",
    "\n",
    "num_mulher = len(Sex_f)\n",
    "num_homen = len(Sex_m)\n",
    "print(f'Conjunto:{tamanho_conjunto}')\n",
    "print(f'Mulheres:{num_mulher}')\n",
    "print(f'Homens: {num_homen}')\n",
    "\n"
   ]
  },
  {
   "cell_type": "code",
   "execution_count": null,
   "id": "5e75623d",
   "metadata": {},
   "outputs": [],
   "source": [
    "# Numero de mulher a bordo\n",
    "# Numero de homen a bordo"
   ]
  },
  {
   "cell_type": "code",
   "execution_count": 56,
   "id": "7892d5d7",
   "metadata": {},
   "outputs": [
    {
     "data": {
      "text/plain": [
       "<AxesSubplot:>"
      ]
     },
     "execution_count": 56,
     "metadata": {},
     "output_type": "execute_result"
    },
    {
     "data": {
      "image/png": "[encoded data removed]",
      "text/plain": [
       "<Figure size 432x288 with 1 Axes>"
      ]
     },
     "metadata": {
      "needs_background": "light"
     },
     "output_type": "display_data"
    }
   ],
   "source": [
    "df.plot()"
   ]
  },
  {
   "cell_type": "code",
   "execution_count": 52,
   "id": "34be0fe8",
   "metadata": {},
   "outputs": [
    {
     "ename": "ConversionError",
     "evalue": "Failed to convert value(s) to axis units: array(['male', 'female', 'female', 'female', 'male', 'male', 'male',\n       'male', 'female', 'female', 'female', 'female', 'male', 'male',\n       'female', 'female', 'male', 'male', 'female', 'female', 'male',\n       'male', 'female', 'male', 'female', 'female', 'male', 'male',\n       'female', 'male', 'male', 'female', 'female', 'male', 'male',\n       'male', 'male', 'male', 'female', 'female', 'female', 'female',\n       'male', 'female', 'female', 'male', 'male', 'female', 'male',\n       'female', 'male', 'male', 'female', 'female', 'male', 'male',\n       'female', 'male', 'female', 'male', 'male', 'female', 'male',\n       'male', 'male', 'male', 'female', 'male', 'female', 'male', 'male',\n       'female', 'male', 'male', 'male', 'male', 'male', 'male', 'male',\n       'female', 'male', 'male', 'female', 'male', 'female', 'female',\n       'male', 'male', 'female', 'male', 'male', 'male', 'male', 'male',\n       'male', 'male', 'male', 'male', 'female', 'male', 'female', 'male',\n       'male', 'male', 'male', 'male', 'female', 'male', 'male', 'female',\n       'male', 'female', 'male', 'female', 'female', 'male', 'male',\n       'male', 'male', 'female', 'male', 'male', 'male', 'female', 'male',\n       'male', 'male', 'male', 'female', 'male', 'male', 'male', 'female',\n       'female', 'male', 'male', 'female', 'male', 'male', 'male',\n       'female', 'female', 'female', 'male', 'male', 'male', 'male',\n       'female', 'male', 'male', 'male', 'female', 'male', 'male', 'male',\n       'male', 'female', 'male', 'male', 'male', 'male', 'female', 'male',\n       'male', 'male', 'male', 'female', 'female', 'male', 'male', 'male',\n       'male', 'female', 'male', 'male', 'male', 'male', 'female', 'male',\n       'male', 'female', 'male', 'male', 'male', 'female', 'male',\n       'female', 'male', 'male', 'male', 'female', 'male', 'female',\n       'male', 'female', 'female', 'male', 'male', 'female', 'female',\n       'male', 'male', 'male', 'male', 'male', 'female', 'male', 'male',\n       'female', 'male', 'male', 'female', 'male', 'male', 'male',\n       'female', 'female', 'male', 'female', 'male', 'male', 'male',\n       'male', 'male', 'male', 'male', 'male', 'male', 'male', 'female',\n       'female', 'male', 'male', 'female', 'male', 'female', 'male',\n       'female', 'male', 'male', 'female', 'female', 'male', 'male',\n       'male', 'male', 'female', 'female', 'male', 'male', 'male',\n       'female', 'male', 'male', 'female', 'female', 'female', 'female',\n       'female', 'female', 'male', 'male', 'male', 'male', 'female',\n       'male', 'male', 'male', 'female', 'female', 'male', 'male',\n       'female', 'male', 'female', 'female', 'female', 'male', 'male',\n       'female', 'male', 'male', 'male', 'male', 'male', 'male', 'male',\n       'male', 'male', 'female', 'female', 'female', 'male', 'female',\n       'male', 'male', 'male', 'female', 'male', 'female', 'female',\n       'male', 'male', 'female', 'male', 'male', 'female', 'female',\n       'male', 'female', 'female', 'female', 'female', 'male', 'male',\n       'female', 'female', 'male', 'female', 'female', 'male', 'male',\n       'female', 'female', 'male', 'female', 'male', 'female', 'female',\n       'female', 'female', 'male', 'male', 'male', 'female', 'male',\n       'male', 'female', 'male', 'male', 'male', 'female', 'male', 'male',\n       'male', 'female', 'female', 'female', 'male', 'male', 'male',\n       'male', 'male', 'male', 'male', 'male', 'female', 'female',\n       'female', 'female', 'male', 'male', 'female', 'male', 'male',\n       'male', 'female', 'female', 'female', 'female', 'male', 'male',\n       'male', 'male', 'female', 'female', 'female', 'male', 'male',\n       'male', 'female', 'female', 'male', 'female', 'male', 'male',\n       'male', 'female', 'male', 'female', 'male', 'male', 'male',\n       'female', 'female', 'male', 'female', 'male', 'male', 'female',\n       'male', 'male', 'female', 'male', 'female', 'male', 'male', 'male',\n       'male', 'female', 'male', 'male', 'female', 'male', 'male',\n       'female', 'female', 'female', 'male', 'female', 'male', 'male',\n       'male', 'female', 'male', 'male', 'female', 'female', 'male',\n       'male', 'male', 'female', 'female', 'male', 'male', 'female',\n       'female', 'female', 'male', 'male', 'female', 'male', 'male',\n       'female', 'male', 'male', 'female', 'male', 'female', 'male',\n       'male', 'male', 'male', 'male', 'male', 'male', 'male', 'female',\n       'female', 'male', 'male', 'male', 'male', 'male', 'male', 'male',\n       'male', 'male', 'male', 'female', 'male', 'male', 'female',\n       'female', 'female', 'male', 'male', 'male', 'male', 'female',\n       'male', 'male', 'male', 'female', 'male', 'female', 'female',\n       'male', 'male', 'male', 'male', 'male', 'male', 'male', 'male',\n       'male', 'female', 'male', 'female', 'male', 'male', 'female',\n       'female', 'female', 'female', 'male', 'female', 'male', 'male',\n       'male', 'male', 'male', 'male', 'female', 'male', 'male', 'female',\n       'male', 'female', 'male', 'female', 'male', 'male', 'female',\n       'male', 'male', 'female', 'male', 'male', 'male', 'female', 'male',\n       'male', 'female', 'female', 'female', 'male', 'female', 'male',\n       'female', 'female', 'female', 'female', 'male', 'male', 'male',\n       'female', 'male', 'male', 'male', 'male', 'male', 'male', 'male',\n       'female', 'male', 'female', 'male', 'female', 'female', 'male',\n       'male', 'male', 'male', 'female', 'male', 'male', 'female', 'male',\n       'male', 'male', 'female', 'male', 'female', 'male', 'male',\n       'female', 'female', 'female', 'male', 'female', 'female', 'male',\n       'male', 'male', 'female', 'male', 'male', 'male', 'male', 'male',\n       'female', 'male', 'female', 'male', 'male', 'female', 'male',\n       'male', 'male', 'female', 'male', 'male', 'male', 'male', 'male',\n       'male', 'male', 'female', 'female', 'female', 'male', 'female',\n       'male', 'male', 'female', 'male', 'female', 'female', 'male',\n       'male', 'male', 'male', 'male', 'male', 'male', 'male', 'female',\n       'male', 'male', 'male', 'male', 'male', 'male', 'female', 'female',\n       'male', 'male', 'female', 'male', 'male', 'female', 'female',\n       'male', 'female', 'male', 'male', 'male', 'male', 'female', 'male',\n       'female', 'male', 'female', 'female', 'male', 'male', 'female',\n       'male', 'male', 'male', 'male', 'male', 'male', 'male', 'male',\n       'male', 'male', 'male', 'female', 'female', 'male', 'male', 'male',\n       'male', 'male', 'male', 'female', 'female', 'male', 'female',\n       'male', 'male', 'male', 'male', 'male', 'male', 'male', 'male',\n       'female', 'male', 'female', 'male', 'male', 'male', 'male', 'male',\n       'female', 'male', 'male', 'female', 'male', 'female', 'male',\n       'male', 'male', 'female', 'male', 'female', 'male', 'female',\n       'male', 'male', 'male', 'male', 'male', 'female', 'female', 'male',\n       'male', 'female', 'male', 'male', 'male', 'male', 'male', 'female',\n       'female', 'male', 'female', 'female', 'male', 'male', 'male',\n       'male', 'male', 'female', 'male', 'male', 'male', 'male', 'male',\n       'female', 'male', 'male', 'male', 'male', 'female', 'male', 'male',\n       'female', 'male', 'male', 'male', 'female', 'male', 'male', 'male',\n       'male', 'female', 'male', 'male', 'male', 'female', 'male',\n       'female', 'male', 'female', 'male', 'male', 'male', 'male',\n       'female', 'male', 'female', 'male', 'male', 'female', 'male',\n       'female', 'female', 'female', 'male', 'male', 'male', 'male',\n       'female', 'male', 'male', 'male', 'male', 'male', 'female', 'male',\n       'male', 'male', 'female', 'female', 'male', 'female', 'male',\n       'female', 'male', 'male', 'male', 'male', 'male', 'female', 'male',\n       'female', 'male', 'male', 'male', 'female', 'male', 'male',\n       'female', 'male', 'male', 'male', 'female', 'male', 'male',\n       'female', 'male', 'male', 'male', 'male', 'male', 'female',\n       'female', 'male', 'male', 'male', 'male', 'female', 'male', 'male',\n       'male', 'male', 'male', 'male', 'female', 'male', 'male', 'male',\n       'male', 'male', 'male', 'female', 'male', 'male', 'female',\n       'female', 'female', 'female', 'female', 'male', 'female', 'male',\n       'male', 'male', 'female', 'female', 'male', 'female', 'female',\n       'male', 'male', 'male', 'male', 'female', 'male', 'male', 'female',\n       'female', 'male', 'male', 'male', 'female', 'female', 'male',\n       'female', 'male', 'male', 'female', 'male', 'female', 'female',\n       'male', 'male'], dtype=object)",
     "output_type": "error",
     "traceback": [
      "\u001b[1;31m---------------------------------------------------------------------------\u001b[0m",
      "\u001b[1;31mValueError\u001b[0m                                Traceback (most recent call last)",
      "File \u001b[1;32mc:\\users\\kronusx\\desktop\\estudos\\jupyter\\jupyter\\lib\\site-packages\\matplotlib\\axis.py:1506\u001b[0m, in \u001b[0;36mAxis.convert_units\u001b[1;34m(self, x)\u001b[0m\n\u001b[0;32m   1505\u001b[0m \u001b[38;5;28;01mtry\u001b[39;00m:\n\u001b[1;32m-> 1506\u001b[0m     ret \u001b[38;5;241m=\u001b[39m \u001b[38;5;28;43mself\u001b[39;49m\u001b[38;5;241;43m.\u001b[39;49m\u001b[43mconverter\u001b[49m\u001b[38;5;241;43m.\u001b[39;49m\u001b[43mconvert\u001b[49m\u001b[43m(\u001b[49m\u001b[43mx\u001b[49m\u001b[43m,\u001b[49m\u001b[43m \u001b[49m\u001b[38;5;28;43mself\u001b[39;49m\u001b[38;5;241;43m.\u001b[39;49m\u001b[43munits\u001b[49m\u001b[43m,\u001b[49m\u001b[43m \u001b[49m\u001b[38;5;28;43mself\u001b[39;49m\u001b[43m)\u001b[49m\n\u001b[0;32m   1507\u001b[0m \u001b[38;5;28;01mexcept\u001b[39;00m \u001b[38;5;167;01mException\u001b[39;00m \u001b[38;5;28;01mas\u001b[39;00m e:\n",
      "File \u001b[1;32mc:\\users\\kronusx\\desktop\\estudos\\jupyter\\jupyter\\lib\\site-packages\\matplotlib\\category.py:49\u001b[0m, in \u001b[0;36mStrCategoryConverter.convert\u001b[1;34m(value, unit, axis)\u001b[0m\n\u001b[0;32m     48\u001b[0m \u001b[38;5;28;01mif\u001b[39;00m unit \u001b[38;5;129;01mis\u001b[39;00m \u001b[38;5;28;01mNone\u001b[39;00m:\n\u001b[1;32m---> 49\u001b[0m     \u001b[38;5;28;01mraise\u001b[39;00m \u001b[38;5;167;01mValueError\u001b[39;00m(\n\u001b[0;32m     50\u001b[0m         \u001b[38;5;124m'\u001b[39m\u001b[38;5;124mMissing category information for StrCategoryConverter; \u001b[39m\u001b[38;5;124m'\u001b[39m\n\u001b[0;32m     51\u001b[0m         \u001b[38;5;124m'\u001b[39m\u001b[38;5;124mthis might be caused by unintendedly mixing categorical and \u001b[39m\u001b[38;5;124m'\u001b[39m\n\u001b[0;32m     52\u001b[0m         \u001b[38;5;124m'\u001b[39m\u001b[38;5;124mnumeric data\u001b[39m\u001b[38;5;124m'\u001b[39m)\n\u001b[0;32m     53\u001b[0m StrCategoryConverter\u001b[38;5;241m.\u001b[39m_validate_unit(unit)\n",
      "\u001b[1;31mValueError\u001b[0m: Missing category information for StrCategoryConverter; this might be caused by unintendedly mixing categorical and numeric data",
      "\nThe above exception was the direct cause of the following exception:\n",
      "\u001b[1;31mConversionError\u001b[0m                           Traceback (most recent call last)",
      "Input \u001b[1;32mIn [52]\u001b[0m, in \u001b[0;36m<cell line: 1>\u001b[1;34m()\u001b[0m\n\u001b[1;32m----> 1\u001b[0m \u001b[43mplt\u001b[49m\u001b[38;5;241;43m.\u001b[39;49m\u001b[43mplot\u001b[49m\u001b[43m(\u001b[49m\u001b[43mdf\u001b[49m\u001b[43m)\u001b[49m\n",
      "File \u001b[1;32mc:\\users\\kronusx\\desktop\\estudos\\jupyter\\jupyter\\lib\\site-packages\\matplotlib\\pyplot.py:2769\u001b[0m, in \u001b[0;36mplot\u001b[1;34m(scalex, scaley, data, *args, **kwargs)\u001b[0m\n\u001b[0;32m   2767\u001b[0m \u001b[38;5;129m@_copy_docstring_and_deprecators\u001b[39m(Axes\u001b[38;5;241m.\u001b[39mplot)\n\u001b[0;32m   2768\u001b[0m \u001b[38;5;28;01mdef\u001b[39;00m \u001b[38;5;21mplot\u001b[39m(\u001b[38;5;241m*\u001b[39margs, scalex\u001b[38;5;241m=\u001b[39m\u001b[38;5;28;01mTrue\u001b[39;00m, scaley\u001b[38;5;241m=\u001b[39m\u001b[38;5;28;01mTrue\u001b[39;00m, data\u001b[38;5;241m=\u001b[39m\u001b[38;5;28;01mNone\u001b[39;00m, \u001b[38;5;241m*\u001b[39m\u001b[38;5;241m*\u001b[39mkwargs):\n\u001b[1;32m-> 2769\u001b[0m     \u001b[38;5;28;01mreturn\u001b[39;00m gca()\u001b[38;5;241m.\u001b[39mplot(\n\u001b[0;32m   2770\u001b[0m         \u001b[38;5;241m*\u001b[39margs, scalex\u001b[38;5;241m=\u001b[39mscalex, scaley\u001b[38;5;241m=\u001b[39mscaley,\n\u001b[0;32m   2771\u001b[0m         \u001b[38;5;241m*\u001b[39m\u001b[38;5;241m*\u001b[39m({\u001b[38;5;124m\"\u001b[39m\u001b[38;5;124mdata\u001b[39m\u001b[38;5;124m\"\u001b[39m: data} \u001b[38;5;28;01mif\u001b[39;00m data \u001b[38;5;129;01mis\u001b[39;00m \u001b[38;5;129;01mnot\u001b[39;00m \u001b[38;5;28;01mNone\u001b[39;00m \u001b[38;5;28;01melse\u001b[39;00m {}), \u001b[38;5;241m*\u001b[39m\u001b[38;5;241m*\u001b[39mkwargs)\n",
      "File \u001b[1;32mc:\\users\\kronusx\\desktop\\estudos\\jupyter\\jupyter\\lib\\site-packages\\matplotlib\\axes\\_axes.py:1634\u001b[0m, in \u001b[0;36mAxes.plot\u001b[1;34m(self, scalex, scaley, data, *args, **kwargs)\u001b[0m\n\u001b[0;32m   1632\u001b[0m lines \u001b[38;5;241m=\u001b[39m [\u001b[38;5;241m*\u001b[39m\u001b[38;5;28mself\u001b[39m\u001b[38;5;241m.\u001b[39m_get_lines(\u001b[38;5;241m*\u001b[39margs, data\u001b[38;5;241m=\u001b[39mdata, \u001b[38;5;241m*\u001b[39m\u001b[38;5;241m*\u001b[39mkwargs)]\n\u001b[0;32m   1633\u001b[0m \u001b[38;5;28;01mfor\u001b[39;00m line \u001b[38;5;129;01min\u001b[39;00m lines:\n\u001b[1;32m-> 1634\u001b[0m     \u001b[38;5;28;43mself\u001b[39;49m\u001b[38;5;241;43m.\u001b[39;49m\u001b[43madd_line\u001b[49m\u001b[43m(\u001b[49m\u001b[43mline\u001b[49m\u001b[43m)\u001b[49m\n\u001b[0;32m   1635\u001b[0m \u001b[38;5;28mself\u001b[39m\u001b[38;5;241m.\u001b[39m_request_autoscale_view(scalex\u001b[38;5;241m=\u001b[39mscalex, scaley\u001b[38;5;241m=\u001b[39mscaley)\n\u001b[0;32m   1636\u001b[0m \u001b[38;5;28;01mreturn\u001b[39;00m lines\n",
      "File \u001b[1;32mc:\\users\\kronusx\\desktop\\estudos\\jupyter\\jupyter\\lib\\site-packages\\matplotlib\\axes\\_base.py:2288\u001b[0m, in \u001b[0;36m_AxesBase.add_line\u001b[1;34m(self, line)\u001b[0m\n\u001b[0;32m   2285\u001b[0m \u001b[38;5;28;01mif\u001b[39;00m line\u001b[38;5;241m.\u001b[39mget_clip_path() \u001b[38;5;129;01mis\u001b[39;00m \u001b[38;5;28;01mNone\u001b[39;00m:\n\u001b[0;32m   2286\u001b[0m     line\u001b[38;5;241m.\u001b[39mset_clip_path(\u001b[38;5;28mself\u001b[39m\u001b[38;5;241m.\u001b[39mpatch)\n\u001b[1;32m-> 2288\u001b[0m \u001b[38;5;28;43mself\u001b[39;49m\u001b[38;5;241;43m.\u001b[39;49m\u001b[43m_update_line_limits\u001b[49m\u001b[43m(\u001b[49m\u001b[43mline\u001b[49m\u001b[43m)\u001b[49m\n\u001b[0;32m   2289\u001b[0m \u001b[38;5;28;01mif\u001b[39;00m \u001b[38;5;129;01mnot\u001b[39;00m line\u001b[38;5;241m.\u001b[39mget_label():\n\u001b[0;32m   2290\u001b[0m     line\u001b[38;5;241m.\u001b[39mset_label(\u001b[38;5;124mf\u001b[39m\u001b[38;5;124m'\u001b[39m\u001b[38;5;124m_child\u001b[39m\u001b[38;5;132;01m{\u001b[39;00m\u001b[38;5;28mlen\u001b[39m(\u001b[38;5;28mself\u001b[39m\u001b[38;5;241m.\u001b[39m_children)\u001b[38;5;132;01m}\u001b[39;00m\u001b[38;5;124m'\u001b[39m)\n",
      "File \u001b[1;32mc:\\users\\kronusx\\desktop\\estudos\\jupyter\\jupyter\\lib\\site-packages\\matplotlib\\axes\\_base.py:2311\u001b[0m, in \u001b[0;36m_AxesBase._update_line_limits\u001b[1;34m(self, line)\u001b[0m\n\u001b[0;32m   2307\u001b[0m \u001b[38;5;28;01mdef\u001b[39;00m \u001b[38;5;21m_update_line_limits\u001b[39m(\u001b[38;5;28mself\u001b[39m, line):\n\u001b[0;32m   2308\u001b[0m     \u001b[38;5;124;03m\"\"\"\u001b[39;00m\n\u001b[0;32m   2309\u001b[0m \u001b[38;5;124;03m    Figures out the data limit of the given line, updating self.dataLim.\u001b[39;00m\n\u001b[0;32m   2310\u001b[0m \u001b[38;5;124;03m    \"\"\"\u001b[39;00m\n\u001b[1;32m-> 2311\u001b[0m     path \u001b[38;5;241m=\u001b[39m \u001b[43mline\u001b[49m\u001b[38;5;241;43m.\u001b[39;49m\u001b[43mget_path\u001b[49m\u001b[43m(\u001b[49m\u001b[43m)\u001b[49m\n\u001b[0;32m   2312\u001b[0m     \u001b[38;5;28;01mif\u001b[39;00m path\u001b[38;5;241m.\u001b[39mvertices\u001b[38;5;241m.\u001b[39msize \u001b[38;5;241m==\u001b[39m \u001b[38;5;241m0\u001b[39m:\n\u001b[0;32m   2313\u001b[0m         \u001b[38;5;28;01mreturn\u001b[39;00m\n",
      "File \u001b[1;32mc:\\users\\kronusx\\desktop\\estudos\\jupyter\\jupyter\\lib\\site-packages\\matplotlib\\lines.py:999\u001b[0m, in \u001b[0;36mLine2D.get_path\u001b[1;34m(self)\u001b[0m\n\u001b[0;32m    997\u001b[0m \u001b[38;5;124;03m\"\"\"Return the `~matplotlib.path.Path` associated with this line.\"\"\"\u001b[39;00m\n\u001b[0;32m    998\u001b[0m \u001b[38;5;28;01mif\u001b[39;00m \u001b[38;5;28mself\u001b[39m\u001b[38;5;241m.\u001b[39m_invalidy \u001b[38;5;129;01mor\u001b[39;00m \u001b[38;5;28mself\u001b[39m\u001b[38;5;241m.\u001b[39m_invalidx:\n\u001b[1;32m--> 999\u001b[0m     \u001b[38;5;28;43mself\u001b[39;49m\u001b[38;5;241;43m.\u001b[39;49m\u001b[43mrecache\u001b[49m\u001b[43m(\u001b[49m\u001b[43m)\u001b[49m\n\u001b[0;32m   1000\u001b[0m \u001b[38;5;28;01mreturn\u001b[39;00m \u001b[38;5;28mself\u001b[39m\u001b[38;5;241m.\u001b[39m_path\n",
      "File \u001b[1;32mc:\\users\\kronusx\\desktop\\estudos\\jupyter\\jupyter\\lib\\site-packages\\matplotlib\\lines.py:656\u001b[0m, in \u001b[0;36mLine2D.recache\u001b[1;34m(self, always)\u001b[0m\n\u001b[0;32m    654\u001b[0m     x \u001b[38;5;241m=\u001b[39m \u001b[38;5;28mself\u001b[39m\u001b[38;5;241m.\u001b[39m_x\n\u001b[0;32m    655\u001b[0m \u001b[38;5;28;01mif\u001b[39;00m always \u001b[38;5;129;01mor\u001b[39;00m \u001b[38;5;28mself\u001b[39m\u001b[38;5;241m.\u001b[39m_invalidy:\n\u001b[1;32m--> 656\u001b[0m     yconv \u001b[38;5;241m=\u001b[39m \u001b[38;5;28;43mself\u001b[39;49m\u001b[38;5;241;43m.\u001b[39;49m\u001b[43mconvert_yunits\u001b[49m\u001b[43m(\u001b[49m\u001b[38;5;28;43mself\u001b[39;49m\u001b[38;5;241;43m.\u001b[39;49m\u001b[43m_yorig\u001b[49m\u001b[43m)\u001b[49m\n\u001b[0;32m    657\u001b[0m     y \u001b[38;5;241m=\u001b[39m _to_unmasked_float_array(yconv)\u001b[38;5;241m.\u001b[39mravel()\n\u001b[0;32m    658\u001b[0m \u001b[38;5;28;01melse\u001b[39;00m:\n",
      "File \u001b[1;32mc:\\users\\kronusx\\desktop\\estudos\\jupyter\\jupyter\\lib\\site-packages\\matplotlib\\artist.py:264\u001b[0m, in \u001b[0;36mArtist.convert_yunits\u001b[1;34m(self, y)\u001b[0m\n\u001b[0;32m    262\u001b[0m \u001b[38;5;28;01mif\u001b[39;00m ax \u001b[38;5;129;01mis\u001b[39;00m \u001b[38;5;28;01mNone\u001b[39;00m \u001b[38;5;129;01mor\u001b[39;00m ax\u001b[38;5;241m.\u001b[39myaxis \u001b[38;5;129;01mis\u001b[39;00m \u001b[38;5;28;01mNone\u001b[39;00m:\n\u001b[0;32m    263\u001b[0m     \u001b[38;5;28;01mreturn\u001b[39;00m y\n\u001b[1;32m--> 264\u001b[0m \u001b[38;5;28;01mreturn\u001b[39;00m \u001b[43max\u001b[49m\u001b[38;5;241;43m.\u001b[39;49m\u001b[43myaxis\u001b[49m\u001b[38;5;241;43m.\u001b[39;49m\u001b[43mconvert_units\u001b[49m\u001b[43m(\u001b[49m\u001b[43my\u001b[49m\u001b[43m)\u001b[49m\n",
      "File \u001b[1;32mc:\\users\\kronusx\\desktop\\estudos\\jupyter\\jupyter\\lib\\site-packages\\matplotlib\\axis.py:1508\u001b[0m, in \u001b[0;36mAxis.convert_units\u001b[1;34m(self, x)\u001b[0m\n\u001b[0;32m   1506\u001b[0m     ret \u001b[38;5;241m=\u001b[39m \u001b[38;5;28mself\u001b[39m\u001b[38;5;241m.\u001b[39mconverter\u001b[38;5;241m.\u001b[39mconvert(x, \u001b[38;5;28mself\u001b[39m\u001b[38;5;241m.\u001b[39munits, \u001b[38;5;28mself\u001b[39m)\n\u001b[0;32m   1507\u001b[0m \u001b[38;5;28;01mexcept\u001b[39;00m \u001b[38;5;167;01mException\u001b[39;00m \u001b[38;5;28;01mas\u001b[39;00m e:\n\u001b[1;32m-> 1508\u001b[0m     \u001b[38;5;28;01mraise\u001b[39;00m munits\u001b[38;5;241m.\u001b[39mConversionError(\u001b[38;5;124m'\u001b[39m\u001b[38;5;124mFailed to convert value(s) to axis \u001b[39m\u001b[38;5;124m'\u001b[39m\n\u001b[0;32m   1509\u001b[0m                                  \u001b[38;5;124mf\u001b[39m\u001b[38;5;124m'\u001b[39m\u001b[38;5;124munits: \u001b[39m\u001b[38;5;132;01m{\u001b[39;00mx\u001b[38;5;132;01m!r}\u001b[39;00m\u001b[38;5;124m'\u001b[39m) \u001b[38;5;28;01mfrom\u001b[39;00m \u001b[38;5;21;01me\u001b[39;00m\n\u001b[0;32m   1510\u001b[0m \u001b[38;5;28;01mreturn\u001b[39;00m ret\n",
      "\u001b[1;31mConversionError\u001b[0m: Failed to convert value(s) to axis units: array(['male', 'female', 'female', 'female', 'male', 'male', 'male',\n       'male', 'female', 'female', 'female', 'female', 'male', 'male',\n       'female', 'female', 'male', 'male', 'female', 'female', 'male',\n       'male', 'female', 'male', 'female', 'female', 'male', 'male',\n       'female', 'male', 'male', 'female', 'female', 'male', 'male',\n       'male', 'male', 'male', 'female', 'female', 'female', 'female',\n       'male', 'female', 'female', 'male', 'male', 'female', 'male',\n       'female', 'male', 'male', 'female', 'female', 'male', 'male',\n       'female', 'male', 'female', 'male', 'male', 'female', 'male',\n       'male', 'male', 'male', 'female', 'male', 'female', 'male', 'male',\n       'female', 'male', 'male', 'male', 'male', 'male', 'male', 'male',\n       'female', 'male', 'male', 'female', 'male', 'female', 'female',\n       'male', 'male', 'female', 'male', 'male', 'male', 'male', 'male',\n       'male', 'male', 'male', 'male', 'female', 'male', 'female', 'male',\n       'male', 'male', 'male', 'male', 'female', 'male', 'male', 'female',\n       'male', 'female', 'male', 'female', 'female', 'male', 'male',\n       'male', 'male', 'female', 'male', 'male', 'male', 'female', 'male',\n       'male', 'male', 'male', 'female', 'male', 'male', 'male', 'female',\n       'female', 'male', 'male', 'female', 'male', 'male', 'male',\n       'female', 'female', 'female', 'male', 'male', 'male', 'male',\n       'female', 'male', 'male', 'male', 'female', 'male', 'male', 'male',\n       'male', 'female', 'male', 'male', 'male', 'male', 'female', 'male',\n       'male', 'male', 'male', 'female', 'female', 'male', 'male', 'male',\n       'male', 'female', 'male', 'male', 'male', 'male', 'female', 'male',\n       'male', 'female', 'male', 'male', 'male', 'female', 'male',\n       'female', 'male', 'male', 'male', 'female', 'male', 'female',\n       'male', 'female', 'female', 'male', 'male', 'female', 'female',\n       'male', 'male', 'male', 'male', 'male', 'female', 'male', 'male',\n       'female', 'male', 'male', 'female', 'male', 'male', 'male',\n       'female', 'female', 'male', 'female', 'male', 'male', 'male',\n       'male', 'male', 'male', 'male', 'male', 'male', 'male', 'female',\n       'female', 'male', 'male', 'female', 'male', 'female', 'male',\n       'female', 'male', 'male', 'female', 'female', 'male', 'male',\n       'male', 'male', 'female', 'female', 'male', 'male', 'male',\n       'female', 'male', 'male', 'female', 'female', 'female', 'female',\n       'female', 'female', 'male', 'male', 'male', 'male', 'female',\n       'male', 'male', 'male', 'female', 'female', 'male', 'male',\n       'female', 'male', 'female', 'female', 'female', 'male', 'male',\n       'female', 'male', 'male', 'male', 'male', 'male', 'male', 'male',\n       'male', 'male', 'female', 'female', 'female', 'male', 'female',\n       'male', 'male', 'male', 'female', 'male', 'female', 'female',\n       'male', 'male', 'female', 'male', 'male', 'female', 'female',\n       'male', 'female', 'female', 'female', 'female', 'male', 'male',\n       'female', 'female', 'male', 'female', 'female', 'male', 'male',\n       'female', 'female', 'male', 'female', 'male', 'female', 'female',\n       'female', 'female', 'male', 'male', 'male', 'female', 'male',\n       'male', 'female', 'male', 'male', 'male', 'female', 'male', 'male',\n       'male', 'female', 'female', 'female', 'male', 'male', 'male',\n       'male', 'male', 'male', 'male', 'male', 'female', 'female',\n       'female', 'female', 'male', 'male', 'female', 'male', 'male',\n       'male', 'female', 'female', 'female', 'female', 'male', 'male',\n       'male', 'male', 'female', 'female', 'female', 'male', 'male',\n       'male', 'female', 'female', 'male', 'female', 'male', 'male',\n       'male', 'female', 'male', 'female', 'male', 'male', 'male',\n       'female', 'female', 'male', 'female', 'male', 'male', 'female',\n       'male', 'male', 'female', 'male', 'female', 'male', 'male', 'male',\n       'male', 'female', 'male', 'male', 'female', 'male', 'male',\n       'female', 'female', 'female', 'male', 'female', 'male', 'male',\n       'male', 'female', 'male', 'male', 'female', 'female', 'male',\n       'male', 'male', 'female', 'female', 'male', 'male', 'female',\n       'female', 'female', 'male', 'male', 'female', 'male', 'male',\n       'female', 'male', 'male', 'female', 'male', 'female', 'male',\n       'male', 'male', 'male', 'male', 'male', 'male', 'male', 'female',\n       'female', 'male', 'male', 'male', 'male', 'male', 'male', 'male',\n       'male', 'male', 'male', 'female', 'male', 'male', 'female',\n       'female', 'female', 'male', 'male', 'male', 'male', 'female',\n       'male', 'male', 'male', 'female', 'male', 'female', 'female',\n       'male', 'male', 'male', 'male', 'male', 'male', 'male', 'male',\n       'male', 'female', 'male', 'female', 'male', 'male', 'female',\n       'female', 'female', 'female', 'male', 'female', 'male', 'male',\n       'male', 'male', 'male', 'male', 'female', 'male', 'male', 'female',\n       'male', 'female', 'male', 'female', 'male', 'male', 'female',\n       'male', 'male', 'female', 'male', 'male', 'male', 'female', 'male',\n       'male', 'female', 'female', 'female', 'male', 'female', 'male',\n       'female', 'female', 'female', 'female', 'male', 'male', 'male',\n       'female', 'male', 'male', 'male', 'male', 'male', 'male', 'male',\n       'female', 'male', 'female', 'male', 'female', 'female', 'male',\n       'male', 'male', 'male', 'female', 'male', 'male', 'female', 'male',\n       'male', 'male', 'female', 'male', 'female', 'male', 'male',\n       'female', 'female', 'female', 'male', 'female', 'female', 'male',\n       'male', 'male', 'female', 'male', 'male', 'male', 'male', 'male',\n       'female', 'male', 'female', 'male', 'male', 'female', 'male',\n       'male', 'male', 'female', 'male', 'male', 'male', 'male', 'male',\n       'male', 'male', 'female', 'female', 'female', 'male', 'female',\n       'male', 'male', 'female', 'male', 'female', 'female', 'male',\n       'male', 'male', 'male', 'male', 'male', 'male', 'male', 'female',\n       'male', 'male', 'male', 'male', 'male', 'male', 'female', 'female',\n       'male', 'male', 'female', 'male', 'male', 'female', 'female',\n       'male', 'female', 'male', 'male', 'male', 'male', 'female', 'male',\n       'female', 'male', 'female', 'female', 'male', 'male', 'female',\n       'male', 'male', 'male', 'male', 'male', 'male', 'male', 'male',\n       'male', 'male', 'male', 'female', 'female', 'male', 'male', 'male',\n       'male', 'male', 'male', 'female', 'female', 'male', 'female',\n       'male', 'male', 'male', 'male', 'male', 'male', 'male', 'male',\n       'female', 'male', 'female', 'male', 'male', 'male', 'male', 'male',\n       'female', 'male', 'male', 'female', 'male', 'female', 'male',\n       'male', 'male', 'female', 'male', 'female', 'male', 'female',\n       'male', 'male', 'male', 'male', 'male', 'female', 'female', 'male',\n       'male', 'female', 'male', 'male', 'male', 'male', 'male', 'female',\n       'female', 'male', 'female', 'female', 'male', 'male', 'male',\n       'male', 'male', 'female', 'male', 'male', 'male', 'male', 'male',\n       'female', 'male', 'male', 'male', 'male', 'female', 'male', 'male',\n       'female', 'male', 'male', 'male', 'female', 'male', 'male', 'male',\n       'male', 'female', 'male', 'male', 'male', 'female', 'male',\n       'female', 'male', 'female', 'male', 'male', 'male', 'male',\n       'female', 'male', 'female', 'male', 'male', 'female', 'male',\n       'female', 'female', 'female', 'male', 'male', 'male', 'male',\n       'female', 'male', 'male', 'male', 'male', 'male', 'female', 'male',\n       'male', 'male', 'female', 'female', 'male', 'female', 'male',\n       'female', 'male', 'male', 'male', 'male', 'male', 'female', 'male',\n       'female', 'male', 'male', 'male', 'female', 'male', 'male',\n       'female', 'male', 'male', 'male', 'female', 'male', 'male',\n       'female', 'male', 'male', 'male', 'male', 'male', 'female',\n       'female', 'male', 'male', 'male', 'male', 'female', 'male', 'male',\n       'male', 'male', 'male', 'male', 'female', 'male', 'male', 'male',\n       'male', 'male', 'male', 'female', 'male', 'male', 'female',\n       'female', 'female', 'female', 'female', 'male', 'female', 'male',\n       'male', 'male', 'female', 'female', 'male', 'female', 'female',\n       'male', 'male', 'male', 'male', 'female', 'male', 'male', 'female',\n       'female', 'male', 'male', 'male', 'female', 'female', 'male',\n       'female', 'male', 'male', 'female', 'male', 'female', 'female',\n       'male', 'male'], dtype=object)"
     ]
    },
    {
     "data": {
      "image/png": "[encoded data removed]",
      "text/plain": [
       "<Figure size 432x288 with 1 Axes>"
      ]
     },
     "metadata": {
      "needs_background": "light"
     },
     "output_type": "display_data"
    }
   ],
   "source": []
  },
  {
   "cell_type": "code",
   "execution_count": null,
   "id": "86024bad",
   "metadata": {},
   "outputs": [],
   "source": []
  }
 ],
 "metadata": {
  "kernelspec": {
   "display_name": "Python 3 (ipykernel)",
   "language": "python",
   "name": "python3"
  },
  "language_info": {
   "codemirror_mode": {
    "name": "ipython",
    "version": 3
   },
   "file_extension": ".py",
   "mimetype": "text/x-python",
   "name": "python",
   "nbconvert_exporter": "python",
   "pygments_lexer": "ipython3",
   "version": "3.9.0"
  }
 },
 "nbformat": 4,
 "nbformat_minor": 5
}
